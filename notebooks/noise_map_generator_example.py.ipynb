{
 "cells": [
  {
   "cell_type": "code",
   "execution_count": null,
   "id": "f65ff0a2",
   "metadata": {},
   "outputs": [],
   "source": [
    "%matplotlib inline\n",
    "\n",
    "import numpy as np\n",
    "import matplotlib.pyplot as plt\n",
    "from sklearn.datasets import make_blobs\n",
    "from sklearn.cluster import DBSCAN\n",
    "from itertools import product"
   ]
  },
  {
   "cell_type": "code",
   "execution_count": null,
   "id": "7fd6b87d",
   "metadata": {},
   "outputs": [],
   "source": [
    "def generate_noise(width, length, amount, step, std=10, means=(1,5)):\n",
    "        samples = np.zeros((width, length, amount, 2))\n",
    "\n",
    "        clusters = np.random.randint(\n",
    "            means[0], means[1] + 1, size=(width, length)\n",
    "        )\n",
    "\n",
    "        # calculate centers\n",
    "        grid_width = (np.arange(width) + 1) * step\n",
    "        grid_length = (np.arange(length) + 1) * step\n",
    "        mean = np.array(\n",
    "            [\n",
    "                np.repeat(grid_width, len(grid_length)),\n",
    "                np.tile(grid_length, len(grid_width)),\n",
    "            ]\n",
    "        ).T\n",
    "        noise = np.random.randn(means[1], width * length, 2) * std\n",
    "        centers = (noise + mean).reshape((means[1], width, length, 2))\n",
    "\n",
    "        for i in range(width):\n",
    "            for j in range(length):\n",
    "                samples[i, j, :] = make_blobs(\n",
    "                    n_samples=amount, centers=centers[0 : clusters[i, j], i, j, :]\n",
    "                )[0]\n",
    "\n",
    "        return samples"
   ]
  },
  {
   "cell_type": "code",
   "execution_count": null,
   "id": "e245debd",
   "metadata": {},
   "outputs": [],
   "source": [
    "np.random.seed(0)\n",
    "data = generate_noise(3, 3, 50, 10)"
   ]
  },
  {
   "cell_type": "code",
   "execution_count": null,
   "id": "62457053",
   "metadata": {},
   "outputs": [],
   "source": [
    "plt.plot(data[0,0,:,0], data[0,0,:,1], 'o') # example of 5 clusters in position 0,0\n",
    "plt.show()"
   ]
  },
  {
   "cell_type": "code",
   "execution_count": null,
   "id": "3c464af0",
   "metadata": {},
   "outputs": [],
   "source": [
    "def generate_map(noise, eps=2, min_samples=3):\n",
    "    db = DBSCAN(eps=eps, min_samples=min_samples).fit(noise)\n",
    "    core_samples_mask = np.zeros_like(db.labels_, dtype=bool)\n",
    "    core_samples_mask[db.core_sample_indices_] = True\n",
    "    labels = db.labels_\n",
    "\n",
    "    # Number of clusters in labels, ignoring noise if present.\n",
    "    n_clusters_ = len(set(labels)) - (1 if -1 in labels else 0)\n",
    "    n_noise_ = list(labels).count(-1)\n",
    "    return labels, core_samples_mask, n_clusters_"
   ]
  },
  {
   "cell_type": "code",
   "execution_count": null,
   "id": "55d3c106",
   "metadata": {},
   "outputs": [],
   "source": [
    "def plot_clusters(X, labels, core_sapmles_mask, n_clusters_):\n",
    "    \n",
    "    unique_labels = set(labels)\n",
    "    colors = [plt.cm.Spectral(each)\n",
    "              for each in np.linspace(0, 1, len(unique_labels))]\n",
    "    for k, col in zip(unique_labels, colors):\n",
    "        if k == -1:\n",
    "            # Black used for noise.\n",
    "            col = [0, 0, 0, 1]\n",
    "\n",
    "        class_member_mask = (labels == k)\n",
    "\n",
    "        xy = X[class_member_mask & core_samples_mask]\n",
    "        plt.plot(xy[:, 0], xy[:, 1], 'o', markerfacecolor=tuple(col),\n",
    "                 markeredgecolor='k', markersize=14)\n",
    "\n",
    "        xy = X[class_member_mask & ~core_samples_mask]\n",
    "        plt.plot(xy[:, 0], xy[:, 1], 'o', markerfacecolor=tuple(col),\n",
    "                 markeredgecolor='k', markersize=6)\n",
    "    plt.title('Estimated number of clusters: %d' % n_clusters_)"
   ]
  },
  {
   "cell_type": "code",
   "execution_count": null,
   "id": "637287d8",
   "metadata": {},
   "outputs": [],
   "source": [
    "for x,y in product(range(3), range(3)):\n",
    "    labels, core_samples_mask, n_clusters_ = generate_map(data[x,y,:,:])\n",
    "    plot_clusters(data[x,y,:,:], labels, core_samples_mask, n_clusters_)\n",
    "    plt.show()"
   ]
  },
  {
   "cell_type": "code",
   "execution_count": null,
   "id": "d97b260d",
   "metadata": {},
   "outputs": [],
   "source": []
  },
  {
   "cell_type": "code",
   "execution_count": null,
   "id": "b3538813",
   "metadata": {},
   "outputs": [],
   "source": []
  }
 ],
 "metadata": {
  "kernelspec": {
   "display_name": "Python 3",
   "language": "python",
   "name": "python3"
  },
  "language_info": {
   "codemirror_mode": {
    "name": "ipython",
    "version": 3
   },
   "file_extension": ".py",
   "mimetype": "text/x-python",
   "name": "python",
   "nbconvert_exporter": "python",
   "pygments_lexer": "ipython3",
   "version": "3.9.2"
  }
 },
 "nbformat": 4,
 "nbformat_minor": 5
}
