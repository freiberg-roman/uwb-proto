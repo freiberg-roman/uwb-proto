{
 "cells": [
  {
   "cell_type": "markdown",
   "metadata": {},
   "source": [
    "# Usage of UWB prototype\n",
    "\n",
    "This notebook shows the general procedure for using the different moduls. Note that most components do not\n",
    "satisfy the performance contraints for most practical applications. The general id"
   ]
  },
  {
   "cell_type": "code",
   "execution_count": null,
   "metadata": {},
   "outputs": [],
   "source": [
    "# first we import the required modules and set up some inital particles and weights\n",
    "import numpy as np\n",
    "\n",
    "from uwb.generator import BlobGenerator\n",
    "from uwb.map import NoiseMapGM\n",
    "from uwb.algorithm import MNMAParticleFilter\n",
    "\n",
    "init_particles = np.stack([np.arange(10), (np.arange(10) + 1) ** 2, (np.arange(10) + 5) ** 3]).T\n",
    "init_weights = np.ones(10) * 0.1"
   ]
  },
  {
   "cell_type": "markdown",
   "metadata": {},
   "source": [
    "### Noise map generation\n",
    "\n",
    "The first step is to construct a noise map from location measurements. For this notebook, we will synthesize the data for a simple grid space with clean Gaussian mixtures for each position."
   ]
  },
  {
   "cell_type": "code",
   "execution_count": null,
   "metadata": {},
   "outputs": [],
   "source": [
    "np.random.seed(101)\n",
    "\n",
    "generator = BlobGenerator(\n",
    "        grid_dims=[4, 4, 4], # this is a grid for a 4x4x4 cube\n",
    "        step_size=10, # distance between measurement locations\n",
    "        measurements_per_location=50,\n",
    "        modal_range=(1,3), # how many mixture components should be used\n",
    "        deviation=2.0,\n",
    "        )\n",
    "\n",
    "noise_map = NoiseMapGM(generator=generator)\n",
    "noise_map.gen()  # calculation of all parameters for the noise map\n",
    "\n",
    "weights, means, covs = noise_map[0, 0, 0]  # example gaussian mixture parameters for location 10x10x10\n",
    "print(\"weights: \", weights, \"\\n\\n means: \", means, \"\\n\\n covariances\", covs)"
   ]
  },
  {
   "cell_type": "markdown",
   "metadata": {},
   "source": [
    "### Particle Filter\n",
    "\n",
    "The next step is to construct the noise map augmented particle filter (basic particle filter is also provided\n",
    "in this package)."
   ]
  },
  {
   "cell_type": "code",
   "execution_count": null,
   "metadata": {},
   "outputs": [],
   "source": [
    "pf = MNMAParticleFilter(\n",
    "    init_particles,\n",
    "    init_weights,\n",
    "    map=noise_map,\n",
    ")"
   ]
  },
  {
   "cell_type": "code",
   "execution_count": null,
   "metadata": {},
   "outputs": [],
   "source": [
    "# now we can resample\n",
    "pf.resample()\n",
    "pf.particles"
   ]
  },
  {
   "cell_type": "code",
   "execution_count": null,
   "metadata": {},
   "outputs": [],
   "source": [
    "# if we are provided measurements we can also update weights with\n",
    "\n",
    "measurements = np.array([[25.0, 25.0, 25.0], [30.0, 30.0, 30.0]])  # note first dimension is the batch size\n",
    "pf.update_weights(measurements)\n",
    "\n",
    "pf.weights"
   ]
  },
  {
   "cell_type": "code",
   "execution_count": null,
   "metadata": {},
   "outputs": [],
   "source": [
    "pf.resample()\n",
    "pf.weights"
   ]
  }
 ],
 "metadata": {
  "kernelspec": {
   "display_name": "Python 3",
   "language": "python",
   "name": "python3"
  },
  "language_info": {
   "codemirror_mode": {
    "name": "ipython",
    "version": 3
   },
   "file_extension": ".py",
   "mimetype": "text/x-python",
   "name": "python",
   "nbconvert_exporter": "python",
   "pygments_lexer": "ipython3",
   "version": "3.9.2"
  }
 },
 "nbformat": 4,
 "nbformat_minor": 1
}
